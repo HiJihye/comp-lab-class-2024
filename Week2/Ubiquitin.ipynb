{
 "cells": [
  {
   "cell_type": "code",
   "execution_count": 17,
   "id": "5aa8c5d0-94db-4397-9974-84b9534fb2d8",
   "metadata": {},
   "outputs": [
    {
     "name": "stdout",
     "output_type": "stream",
     "text": [
      "Total number of hydrogen bondings: 57\n",
      "Number of helical amino acids: 18\n"
     ]
    }
   ],
   "source": [
    "import mdtraj as md\n",
    "trajectory=md.load('comp-lab-class-2024/Week2-DataAnalysis/Data/1UBQ_processed.pdb')\n",
    "\n",
    "hydrogen_bonds = md.baker_hubbard(trajectory, periodic=False)\n",
    "print(f\"Total number of hydrogen bondings: {len(hydrogen_bonds)}\")\n",
    "\n",
    "dssp = md.compute_dssp(trajectory)\n",
    "helical_residues = sum(1 for res in dssp[0] if res == 'H')\n",
    "print(f\"Number of helical amino acids: {helical_residues}\")\n"
   ]
  }
 ],
 "metadata": {
  "kernelspec": {
   "display_name": "lab_env_2024",
   "language": "python",
   "name": "lab_env_2024"
  },
  "language_info": {
   "codemirror_mode": {
    "name": "ipython",
    "version": 3
   },
   "file_extension": ".py",
   "mimetype": "text/x-python",
   "name": "python",
   "nbconvert_exporter": "python",
   "pygments_lexer": "ipython3",
   "version": "3.9.12"
  }
 },
 "nbformat": 4,
 "nbformat_minor": 5
}
