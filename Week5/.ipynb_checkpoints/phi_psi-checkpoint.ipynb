{
 "cells": [
  {
   "cell_type": "code",
   "execution_count": 7,
   "metadata": {},
   "outputs": [
    {
     "ename": "IndexError",
     "evalue": "index 1 is out of bounds for axis 1 with size 1",
     "output_type": "error",
     "traceback": [
      "\u001b[0;31m---------------------------------------------------------------------------\u001b[0m",
      "\u001b[0;31mIndexError\u001b[0m                                Traceback (most recent call last)",
      "Cell \u001b[0;32mIn[7], line 17\u001b[0m\n\u001b[1;32m     15\u001b[0m \u001b[38;5;66;03m# Plot Phi vs Time\u001b[39;00m\n\u001b[1;32m     16\u001b[0m plt\u001b[38;5;241m.\u001b[39mfigure()\n\u001b[0;32m---> 17\u001b[0m plt\u001b[38;5;241m.\u001b[39mplot(time, \u001b[43mphi_angles_deg\u001b[49m\u001b[43m[\u001b[49m\u001b[43m:\u001b[49m\u001b[43m,\u001b[49m\u001b[43m \u001b[49m\u001b[38;5;241;43m1\u001b[39;49m\u001b[43m]\u001b[49m)  \u001b[38;5;66;03m# Plot for the first residue\u001b[39;00m\n\u001b[1;32m     18\u001b[0m plt\u001b[38;5;241m.\u001b[39mxlabel(\u001b[38;5;124m'\u001b[39m\u001b[38;5;124mTime (ps)\u001b[39m\u001b[38;5;124m'\u001b[39m)\n\u001b[1;32m     19\u001b[0m plt\u001b[38;5;241m.\u001b[39mylabel(\u001b[38;5;124m'\u001b[39m\u001b[38;5;124mPhi Angle (degrees)\u001b[39m\u001b[38;5;124m'\u001b[39m)\n",
      "\u001b[0;31mIndexError\u001b[0m: index 1 is out of bounds for axis 1 with size 1"
     ]
    },
    {
     "data": {
      "text/plain": [
       "<Figure size 640x480 with 0 Axes>"
      ]
     },
     "metadata": {},
     "output_type": "display_data"
    }
   ],
   "source": [
    "import mdtraj as md\n",
    "import numpy as np\n",
    "import matplotlib.pyplot as plt\n",
    "\n",
    "traj = md.load(\"adp.xtc\", top=\"adp.gro\")\n",
    "\n",
    "phi_indices, phi_angles = md.compute_phi(traj)\n",
    "psi_indices, psi_angles = md.compute_psi(traj)\n",
    "\n",
    "phi_angles_deg = np.rad2deg(phi_angles)\n",
    "psi_angles_deg = np.rad2deg(psi_angles)\n",
    "\n",
    "time = traj.time\n",
    "\n",
    "# Plot Phi vs Time\n",
    "plt.figure()\n",
    "plt.plot(time, phi_angles_deg[:, 0])  # Plot for the first residue\n",
    "plt.xlabel('Time (ps)')\n",
    "plt.ylabel('Phi Angle (degrees)')\n",
    "plt.title('Phi Angle vs Time')\n",
    "plt.show()\n",
    "\n",
    "# Plot Psi vs Time\n",
    "plt.figure()\n",
    "plt.plot(time, psi_angles_deg[:, 0])  # Plot for the first residue\n",
    "plt.xlabel('Time (ps)')\n",
    "plt.ylabel('Psi Angle (degrees)')\n",
    "plt.title('Psi Angle vs Time')\n",
    "plt.show()"
   ]
  },
  {
   "cell_type": "code",
   "execution_count": null,
   "metadata": {},
   "outputs": [],
   "source": []
  }
 ],
 "metadata": {
  "kernelspec": {
   "display_name": "lab_env_2024",
   "language": "python",
   "name": "lab_env_2024"
  },
  "language_info": {
   "codemirror_mode": {
    "name": "ipython",
    "version": 3
   },
   "file_extension": ".py",
   "mimetype": "text/x-python",
   "name": "python",
   "nbconvert_exporter": "python",
   "pygments_lexer": "ipython3",
   "version": "3.9.12"
  }
 },
 "nbformat": 4,
 "nbformat_minor": 4
}
